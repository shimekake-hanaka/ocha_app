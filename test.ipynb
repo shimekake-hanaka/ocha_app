{
 "cells": [
  {
   "cell_type": "code",
   "execution_count": 1,
   "metadata": {},
   "outputs": [],
   "source": [
    "from selenium import webdriver\n",
    "from selenium.webdriver.common.keys import Keys\n",
    "from selenium.webdriver.common.by import By"
   ]
  },
  {
   "cell_type": "code",
   "execution_count": 6,
   "metadata": {},
   "outputs": [],
   "source": [
    "from selenium.webdriver.chrome.options import Options\n",
    "options = Options()\n",
    "options.add_argument('–headless') # ヘッドレスモードを有効にする場合\n",
    "driver = webdriver.Chrome(options=options)\n",
    "# 指定した要素が見つかるまでの待ち時間を設定する 今回は最大10秒待機する\n",
    "driver.implicitly_wait(10)\n",
    "driver.get('https://sakura-ocha.com/contacts/new')\n",
    "# 入力値の変数\n",
    "name = 'テスト'\n",
    "email = 'abc.def@mail.com'\n",
    "\n",
    "# inputタグに値を入力\n",
    "elem_contactName = driver.find_element(By.XPATH, '//*[@id=\"contact_name\"]')\n",
    "elem_contactName.clear()\n",
    "elem_contactName.send_keys(name)\n",
    "# inputタグに値を入力\n",
    "elem_contactEmail = driver.find_element(By.NAME, 'contact[email]')\n",
    "elem_contactEmail.clear()\n",
    "elem_contactEmail.send_keys(email)\n",
    "# inputタグに値を入力\n",
    "elem_contactTel = driver.find_element(By.NAME, 'contact[telephone]')\n",
    "elem_contactTel.clear()\n",
    "elem_contactTel.send_keys('1234556778')\n",
    "# inputタグに値を入力\n",
    "elem_contactInquiry = driver.find_element(By.NAME, 'contact[content_inquiry]')\n",
    "elem_contactInquiry.clear()\n",
    "elem_contactInquiry.send_keys('test')\n",
    "# 保存・clickする\n",
    "elem_sendClick = driver.find_element(By.XPATH, '//*[@id=\"new_contact\"]/button')\n",
    "elem_sendClick.click()\n",
    "# 確認画面でサイドバーをクリック\n",
    "elem_sendClick = driver.find_element(By.XPATH, '/html/body/header/div/div/div/button')\n",
    "elem_sendClick.click()\n",
    "# サイドバーのtop画面に遷移ボタンをクリック\n",
    "elem_sendClick = driver.find_element(By.XPATH, '/html/body/header/div/div/div/nav/ul/li[1]/a')\n",
    "elem_sendClick.click()"
   ]
  },
  {
   "cell_type": "code",
   "execution_count": 3,
   "metadata": {},
   "outputs": [],
   "source": [
    "# from selenium.webdriver.chrome.options import Options\n",
    "# options = Options()\n",
    "# options.add_argument('–headless') # ヘッドレスモードを有効にする場合\n",
    "# driver = webdriver.Chrome(options=options)\n",
    "# driver.get('localhost:3000/contacts/new')\n",
    "# # 入力値の変数\n",
    "# name = 'テスト'\n",
    "\n",
    "# # inputタグに値を入力\n",
    "# elem_contactName = driver.find_element(By.XPATH, '//*[@id=\"contact_name\"]')\n",
    "# elem_contactName.clear()\n",
    "# elem_contactName.send_keys(name)\n",
    "# # inputタグに値を入力\n",
    "# elem_contactEmail = driver.find_element(By.ID, 'test_email')\n",
    "# elem_contactEmail.clear()\n",
    "# elem_contactEmail.send_keys(name)\n",
    "# # inputタグに値を入力\n",
    "# elem_contactTel = driver.find_element(By.NAME, 'contact[telephone]')\n",
    "# elem_contactTel.clear()\n",
    "# elem_contactTel.send_keys('')\n",
    "# # inputタグに値を入力\n",
    "# elem_contactInquiry = driver.find_element(By.CLASS_NAME, 'test_contact')\n",
    "# elem_contactInquiry.clear()\n",
    "# elem_contactInquiry.send_keys('テスト　テスト')\n",
    "# # clickする\n",
    "# elem_sendClick = driver.find_element(By.XPATH, '//*[@id=\"new_contact\"]/button')\n",
    "# elem_sendClick.click()"
   ]
  },
  {
   "cell_type": "code",
   "execution_count": null,
   "metadata": {},
   "outputs": [],
   "source": []
  }
 ],
 "metadata": {
  "kernelspec": {
   "display_name": "Python 3",
   "language": "python",
   "name": "python3"
  },
  "language_info": {
   "codemirror_mode": {
    "name": "ipython",
    "version": 3
   },
   "file_extension": ".py",
   "mimetype": "text/x-python",
   "name": "python",
   "nbconvert_exporter": "python",
   "pygments_lexer": "ipython3",
   "version": "3.11.6"
  }
 },
 "nbformat": 4,
 "nbformat_minor": 2
}
